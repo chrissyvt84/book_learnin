{
  "cells": [
    {
      "cell_type": "markdown",
      "metadata": {
        "id": "_Y104vcVK04z"
      },
      "source": [
        "# Exercise 1\n",
        "#### Tip Calculator!!\n",
        "Cost of meal = 54.76\n",
        "<br>\n",
        "Tax = 7.85%\n",
        "<br>\n",
        "Tip = 15%\n",
        "<br>\n",
        "Find tax amount, cost after tax, tip amount, and total cost"
      ]
    },
    {
      "cell_type": "code",
      "execution_count": null,
      "metadata": {
        "id": "poHWNx8-K041",
        "outputId": "976eba75-2922-4d48-91fb-4b8f75257731"
      },
      "outputs": [
        {
          "name": "stdout",
          "output_type": "stream",
          "text": [
            "My original meal cost is 54.76\n",
            "Tax amount is:  4.29866\n",
            "Cost after tax is:  59.058659999999996\n",
            "Tip amount is:  8.858799\n",
            "Total cost is:  67.917459\n"
          ]
        }
      ],
      "source": [
        "# Create a variable for cost of meal, tax and tip and assign their values\n",
        "# Note that percentage is not captured in programming languages. Divide by 100 instead.\n",
        "cost_of_meal = 54.76\n",
        "tax = 0.0785\n",
        "tip = 0.15\n",
        "\n",
        "# Calculate tax amount by creating a variable for it and assign it to a formula using the variables for cost of meal and tax\n",
        "tax_amount = tax * cost_of_meal\n",
        "\n",
        "# Calculate cost after tax\n",
        "cost_after_tax = cost_of_meal + tax_amount\n",
        "\n",
        "# Calculate tip amount\n",
        "# Hint: Calculate the tip amount the cost after tax\n",
        "tip_amount = 0.15 * cost_after_tax\n",
        "\n",
        "# Calculate total amount\n",
        "total = cost_after_tax + tip_amount\n",
        "\n",
        "print('My original meal cost is', cost_of_meal)\n",
        "\n",
        "# Follow the example above and print the tax amount\n",
        "print('Tax amount is: ', tax_amount)\n",
        "\n",
        "# Print the cost after tax\n",
        "print('Cost after tax is: ', cost_after_tax)\n",
        "\n",
        "# Print the tip amount\n",
        "print('Tip amount is: ', tip_amount)\n",
        "\n",
        "# Print the total cost of the meal\n",
        "print('Total cost is: ', total)"
      ]
    },
    {
      "cell_type": "markdown",
      "source": [
        "## **Exercise 2**\n",
        "\n",
        "#### **(Strings, Lists and Dictionaries)**\n",
        "*   Create a variable with the string value - **'The quick brown fox jumps over a lazy dog'** <br>\n",
        "    * Print the length of this string variable\n",
        "    * **'Split'** the string using **'  '** (space character) and assign this operation to a new variable. Print the length of the new variable\n",
        "    * Find the middle element of the sequence in new variable and return its value\n",
        "    * **'append'** a new string value, 'number 5' (5 is an integer. Concatenate the values, 'number' and 5, while appending)\n",
        "    * **'Join'** the split strings (in the new variable) with a space character and print this operation (**Hint: ' '.join(???)**)\n",
        "\n"
      ],
      "metadata": {
        "id": "RygBv11qK3lP"
      }
    },
    {
      "cell_type": "code",
      "source": [
        "text = 'The quick brown fox jumps over a lazy dog'\n",
        "\n",
        "#Length of the 'text' variable\n",
        "print('Length of the variable \"text\":', len(text))\n",
        "\n",
        "#Splitting the string\n",
        "new = text.split(' ')\n",
        "\n",
        "#Length of the 'new' variable\n",
        "print('Length of the variable \"new\":', len(new))\n",
        "\n",
        "#Middle element of the 'new' variable\n",
        "mid_obj = len(new)//2\n",
        "print('Middle Element in the new variable: ', new[mid_obj])\n",
        "\n",
        "#Adding a string to the 'new' variable\n",
        "new.append('number ' + str(5))\n",
        "print(new)\n",
        "\n",
        "#Joining the the individual strings into one string\n",
        "print(' '.join(new))\n"
      ],
      "metadata": {
        "id": "LV-r45NaK8wb"
      },
      "execution_count": null,
      "outputs": []
    },
    {
      "cell_type": "markdown",
      "source": [
        "*   Create a dictionary from the following table. (Column Name - Keys, Corresponding Data - Values)\n",
        "  * Return **'keys'** and **'values'** separately\n",
        "\n",
        "\n",
        ">|Director | Movies | Academy Awards |\n",
        "|------|-----|-----------|\n",
        "| Q Tarantino    |<center> 10 |<center> 7  |\n",
        "| C Nolan   |<center> 11 |<center>11 |\n",
        "| S Spielberg    |<center> 37 |<center>3  |\n",
        "| PT Anderson    |<center> 9 |<center>3  |\n",
        "| M Scorsese\t   | <center>25 |<center>20 |\n",
        "| C Eastwood | <center>40 |<center>4 |"
      ],
      "metadata": {
        "id": "33G9F558PyM4"
      }
    },
    {
      "cell_type": "code",
      "source": [
        "# Enter your code here\n",
        "\n",
        "new_dict = {'Director':['Q Tarantino', 'C Nolan', 'S Spielberg', 'PT Anderson', 'M Scorsese', 'C Eastwood'],'Movies':[10,11,37,9,25,40],'Academy Awards':[7,11,3,3,20,4]}\n",
        "\n",
        "# Another way of creating a dictionary\n",
        "\n",
        "new_dict = dict([('Director', ['Q Tarantino', 'C Nolan', 'S Spielberg', 'PT Anderson']), ('Movies',[10,11,37,9,25,40]), ('Academy Awards',[7,11,3,3,20,4])])\n",
        "\n",
        "# Items in the dictionary - (Keys, Values)\n",
        "print(new_dict.items())\n",
        "\n",
        "# Keys in the dictionary\n",
        "print(new_dict.keys())\n",
        "\n",
        "# Values in the dictionary\n",
        "print(new_dict.values())"
      ],
      "metadata": {
        "id": "CjbJfkwuPy2v"
      },
      "execution_count": null,
      "outputs": []
    },
    {
      "cell_type": "markdown",
      "metadata": {
        "id": "EfhRexRhK042"
      },
      "source": [
        "# Bonus Exercise\n",
        "\n",
        "## Nested Dictionary\n",
        "\n",
        "Create a dictionary with the following properties:\n",
        "\n",
        "- A 'name' key for a manager's name\n",
        "- A 'salary' key for a manager's salary\n",
        "- A 'assistant key for the following dictionary:\n",
        "    - A 'name' key for an assistant's name\n",
        "    - A 'salary' key for an assistant's salary"
      ]
    },
    {
      "cell_type": "code",
      "execution_count": null,
      "metadata": {
        "id": "dswMFPc-K043"
      },
      "outputs": [],
      "source": [
        "manager = {\n",
        "    'name' : 'John Smith',\n",
        "    'salary': 100000,\n",
        "    'assistant': {\n",
        "        'name': 'Frank Adams',\n",
        "        'salary': 90000\n",
        "    }\n",
        "}"
      ]
    }
  ],
  "metadata": {
    "kernelspec": {
      "display_name": "Python 3.10.6 64-bit",
      "language": "python",
      "name": "python3"
    },
    "language_info": {
      "codemirror_mode": {
        "name": "ipython",
        "version": 3
      },
      "file_extension": ".py",
      "mimetype": "text/x-python",
      "name": "python",
      "nbconvert_exporter": "python",
      "pygments_lexer": "ipython3",
      "version": "3.10.6"
    },
    "vscode": {
      "interpreter": {
        "hash": "aee8b7b246df8f9039afb4144a1f6fd8d2ca17a180786b69acc140d282b71a49"
      }
    },
    "colab": {
      "provenance": []
    }
  },
  "nbformat": 4,
  "nbformat_minor": 0
}